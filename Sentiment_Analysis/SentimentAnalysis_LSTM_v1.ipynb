{
 "cells": [
  {
   "cell_type": "code",
   "execution_count": 406,
   "metadata": {},
   "outputs": [],
   "source": [
    "import numpy as np\n",
    "import pandas as pd \n",
    "import matplotlib.pyplot as plt\n",
    "from string import punctuation"
   ]
  },
  {
   "cell_type": "code",
   "execution_count": 407,
   "metadata": {},
   "outputs": [],
   "source": [
    "from keras.preprocessing.text import Tokenizer\n",
    "from keras.preprocessing.sequence import pad_sequences\n",
    "from keras.models import Sequential\n",
    "from keras.layers import Dense, Embedding, LSTM\n",
    "from sklearn.model_selection import train_test_split"
   ]
  },
  {
   "cell_type": "code",
   "execution_count": 408,
   "metadata": {},
   "outputs": [
    {
     "name": "stdout",
     "output_type": "stream",
     "text": [
      "                                              Review  Liked\n",
      "0                           Wow... Loved this place.      1\n",
      "1                                 Crust is not good.      0\n",
      "2          Not tasty and the texture was just nasty.      0\n",
      "3  Stopped by during the late May bank holiday of...      1\n",
      "4  The selection on the menu was great and so wer...      1\n",
      "(1000, 2)\n",
      "Review    object\n",
      "Liked      int64\n",
      "dtype: object\n"
     ]
    }
   ],
   "source": [
    "### LOADING DATA ###\n",
    "# taken from Kaggle\n",
    "rev = pd.read_csv('Restaurant_Reviews.tsv',sep='\\t')\n",
    "\n",
    "print(rev.head())\n",
    "print(rev.shape)\n",
    "print(rev.dtypes)\n",
    "# Liked = 1 means positive and Liked = 0 means negative"
   ]
  },
  {
   "cell_type": "code",
   "execution_count": 409,
   "metadata": {},
   "outputs": [
    {
     "name": "stdout",
     "output_type": "stream",
     "text": [
      "                                              Review  Liked\n",
      "0                           wow... loved this place.      1\n",
      "1                                 crust is not good.      0\n",
      "2          not tasty and the texture was just nasty.      0\n",
      "3  stopped by during the late may bank holiday of...      1\n",
      "4  the selection on the menu was great and so wer...      1\n",
      "\n",
      "\n",
      "punctuations to be removed: !\"#$%&'()*+,-./:;<=>?@[\\]^_`{|}~\n",
      "\n",
      "\n",
      "                                              Review  Liked\n",
      "0                               wow loved this place      1\n",
      "1                                  crust is not good      0\n",
      "2           not tasty and the texture was just nasty      0\n",
      "3  stopped by during the late may bank holiday of...      1\n",
      "4  the selection on the menu was great and so wer...      1\n"
     ]
    }
   ],
   "source": [
    "### DATA PROCESSING ###\n",
    "\n",
    "# 1. Lower Case  Connversion\n",
    "rev['Review'] = rev['Review'].apply(lambda x: x.lower())\n",
    "print(rev.head())\n",
    "print('\\n')\n",
    "\n",
    "# 2. Removing Punctuation\n",
    "print('punctuations to be removed:', punctuation)\n",
    "print('\\n')\n",
    "rev['Review'] = rev['Review'].apply(lambda x: ''.join([w for w in x if w not in punctuation]))\n",
    "print(rev.head())\n",
    "\n",
    "# # 3. Removing STOPWORDS\n",
    "# import nltk\n",
    "# # nltk.download('stopwords')\n",
    "# from nltk.corpus import stopwords\n",
    "# stoplist = stopwords.words('english')\n",
    "\n",
    "# rev['Review'] = rev['Review'].apply(lambda x: ' '.join([w for w in x.split() if w not in stoplist]))\n",
    "# print(rev.head())"
   ]
  },
  {
   "cell_type": "code",
   "execution_count": 410,
   "metadata": {},
   "outputs": [
    {
     "data": {
      "image/png": "[encoded data removed]",
      "text/plain": [
       "<Figure size 432x288 with 1 Axes>"
      ]
     },
     "metadata": {
      "needs_background": "light"
     },
     "output_type": "display_data"
    },
    {
     "name": "stdout",
     "output_type": "stream",
     "text": [
      "count    1000.000000\n",
      "mean       10.847000\n",
      "std         6.236865\n",
      "min         1.000000\n",
      "25%         6.000000\n",
      "50%        10.000000\n",
      "75%        15.000000\n",
      "max        32.000000\n",
      "dtype: float64\n"
     ]
    }
   ],
   "source": [
    "### Max Length of review to be used\n",
    "# checking on review length\n",
    "word_len = [len(x) for x in rev['Review'].str.split()]\n",
    "pd.Series(word_len).hist()\n",
    "plt.show()\n",
    "print(pd.Series(word_len).describe())\n",
    "\n",
    "word_len = 35 # assumed for now "
   ]
  },
  {
   "cell_type": "code",
   "execution_count": 411,
   "metadata": {},
   "outputs": [],
   "source": [
    "vocab_max = 2500"
   ]
  },
  {
   "cell_type": "code",
   "execution_count": 412,
   "metadata": {},
   "outputs": [],
   "source": [
    "### Tokenizing and creating sequences of fixed seq. word_len \n",
    "# review less than seq length will be padded and more than seq length will be truncated\n",
    "tokenizer = Tokenizer(num_words =  vocab_max, split=\" \")\n",
    "tokenizer.fit_on_texts(rev['Review'].values)\n",
    "X = tokenizer.texts_to_sequences(rev['Review'].values)\n",
    "X = pad_sequences(X, maxlen=word_len)"
   ]
  },
  {
   "cell_type": "code",
   "execution_count": 413,
   "metadata": {},
   "outputs": [
    {
     "name": "stdout",
     "output_type": "stream",
     "text": [
      "(1000, 35)\n",
      "[[  0   0   0 ... 162   8  15]\n",
      " [  0   0   0 ...   7  12  16]\n",
      " [  0   0   0 ...   4  45 425]\n",
      " ...\n",
      " [  0   0   0 ...  12  38  31]\n",
      " [  0   0   0 ... 136 157  40]\n",
      " [  0   0   0 ... 347   1 275]]\n"
     ]
    }
   ],
   "source": [
    "print(X.shape)\n",
    "print(X)"
   ]
  },
  {
   "cell_type": "code",
   "execution_count": 414,
   "metadata": {},
   "outputs": [
    {
     "name": "stdout",
     "output_type": "stream",
     "text": [
      "Model: \"sequential_27\"\n",
      "_________________________________________________________________\n",
      "Layer (type)                 Output Shape              Param #   \n",
      "=================================================================\n",
      "embedding_27 (Embedding)     (None, 35, 25)            62500     \n",
      "_________________________________________________________________\n",
      "lstm_26 (LSTM)               (None, 128)               78848     \n",
      "_________________________________________________________________\n",
      "dense_26 (Dense)             (None, 2)                 258       \n",
      "=================================================================\n",
      "Total params: 141,606\n",
      "Trainable params: 141,606\n",
      "Non-trainable params: 0\n",
      "_________________________________________________________________\n",
      "None\n"
     ]
    }
   ],
   "source": [
    "### Model Building\n",
    "\n",
    "embedding_dim = 25 #hyper-parameter\n",
    "lstm_cell = 128 #hyper-parameter\n",
    "\n",
    "model = Sequential()\n",
    "model.add(Embedding(word_max, embedding_dim, input_length = X.shape[1]))\n",
    "model.add(LSTM(lstm_cell, dropout=0.2, recurrent_dropout=0.2))\n",
    "model.add(Dense(2, activation='softmax'))\n",
    "model.compile(loss = 'categorical_crossentropy', optimizer='adam', metrics = ['accuracy'])\n",
    "print(model.summary())"
   ]
  },
  {
   "cell_type": "code",
   "execution_count": 415,
   "metadata": {},
   "outputs": [
    {
     "name": "stdout",
     "output_type": "stream",
     "text": [
      "(800, 35) (800, 2)\n",
      "(200, 35) (200, 2)\n"
     ]
    }
   ],
   "source": [
    "### Train-Test Splitting\n",
    "\n",
    "y = pd.get_dummies(rev['Liked']).values\n",
    "X_train, X_test, y_train, y_test = train_test_split(X,y, test_size = 0.2, random_state = 4)\n",
    "\n",
    "print(X_train.shape, y_train.shape)\n",
    "print(X_test.shape, y_test.shape)"
   ]
  },
  {
   "cell_type": "code",
   "execution_count": 416,
   "metadata": {
    "scrolled": false
   },
   "outputs": [
    {
     "name": "stdout",
     "output_type": "stream",
     "text": [
      "Epoch 1/5\n",
      " - 2s - loss: 0.6926 - accuracy: 0.5163\n",
      "Epoch 2/5\n",
      " - 1s - loss: 0.6168 - accuracy: 0.7400\n",
      "Epoch 3/5\n",
      " - 1s - loss: 0.3768 - accuracy: 0.8675\n",
      "Epoch 4/5\n",
      " - 1s - loss: 0.2523 - accuracy: 0.9187\n",
      "Epoch 5/5\n",
      " - 1s - loss: 0.1321 - accuracy: 0.9688\n"
     ]
    },
    {
     "data": {
      "text/plain": [
       "<keras.callbacks.callbacks.History at 0x1a549eb950>"
      ]
     },
     "execution_count": 416,
     "metadata": {},
     "output_type": "execute_result"
    }
   ],
   "source": [
    "### Model fit \n",
    "# batcch size and n_epochs are hyper-parameters\n",
    "batch_size = 16\n",
    "n_epochs = 5\n",
    "model.fit(X_train, y_train, epochs = n_epochs, batch_size=batch_size, verbose = 2)"
   ]
  },
  {
   "cell_type": "code",
   "execution_count": 417,
   "metadata": {},
   "outputs": [
    {
     "name": "stdout",
     "output_type": "stream",
     "text": [
      "Loss: 0.55\n",
      "Accuracy: 0.75\n"
     ]
    }
   ],
   "source": [
    "loss, accuracy = model.evaluate(X_test, y_test, verbose = 2, batch_size = batch_size)\n",
    "print(\"Loss: %.2f\" % (loss))\n",
    "print(\"Accuracy: %.2f\" % (accuracy))"
   ]
  }
 ],
 "metadata": {
  "kernelspec": {
   "display_name": "Python 3",
   "language": "python",
   "name": "python3"
  },
  "language_info": {
   "codemirror_mode": {
    "name": "ipython",
    "version": 3
   },
   "file_extension": ".py",
   "mimetype": "text/x-python",
   "name": "python",
   "nbconvert_exporter": "python",
   "pygments_lexer": "ipython3",
   "version": "3.7.6"
  }
 },
 "nbformat": 4,
 "nbformat_minor": 2
}
